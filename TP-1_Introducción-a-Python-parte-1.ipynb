{
 "cells": [
  {
   "cell_type": "markdown",
   "metadata": {
    "id": "42630xxYD0gZ"
   },
   "source": [
    "# ![alt text](https://upload.wikimedia.org/wikipedia/commons/thumb/c/c3/Python-logo-notext.svg/50px-Python-logo-notext.svg.png) **Trabajo Práctico 1: Introducción a Python Parte 1** ![alt text](https://upload.wikimedia.org/wikipedia/commons/thumb/c/c3/Python-logo-notext.svg/50px-Python-logo-notext.svg.png)\n",
    "\n",
    "En estos ejercicios vamos a trabajar cosas que nos permitan empezar a programar esquinausando Python.\n",
    "\n",
    "La idea es que ustedes vayan resolviendo los ejercicios sin la necesidad de instalarse nada en sus computadoras.\n",
    "Antes que nada, creen una copia de este archivo en su ***Google Drive*** para tener permisos de edición, luego pueden compartirlo con quien quieran, tengan cuidado con los permisos al momento de compartir!!!!!!!. Si quieren, nos pueden compartir su documento para que ayudemos con las dudas.\n",
    "\n",
    "### Sergio: **sergio.gonzalez@unahur.edu.ar**"
   ]
  },
  {
   "cell_type": "markdown",
   "metadata": {
    "id": "g-CtOfA0Gxgs"
   },
   "source": [
    "En los bloques de código como el que les aparece aca abajo, se puede programar en Python, al pararse dentro del bloque, aparecerá un ícono de \"*play*\" en la esquina superior izquierda, \"*clickeando*\" en este ícono, se ejecuta el código escrito y se muestra la salida debajo\n",
    "\n",
    "Una cosa a tener en cuenta es que todos los bloques de código estan conectados  entre sí, es por eso que podemos usar dentro de un bloque una variable definida en otro (se debe ejecutar antes el bloque para \"*crearla*\")\n",
    "\n",
    "Probemos algunas de estas cosas:"
   ]
  },
  {
   "cell_type": "markdown",
   "metadata": {
    "id": "jj8Fij2xGzda"
   },
   "source": [
    "Declaración de variables e impresión por consola de valores"
   ]
  },
  {
   "cell_type": "code",
   "execution_count": 11,
   "metadata": {
    "colab": {
     "base_uri": "https://localhost:8080/"
    },
    "executionInfo": {
     "elapsed": 19,
     "status": "ok",
     "timestamp": 1743198955899,
     "user": {
      "displayName": "Sergio Gonzalez",
      "userId": "11558108327108853214"
     },
     "user_tz": 180
    },
    "id": "IH0qfE_oTzyR",
    "outputId": "9b2ccf35-4374-47f2-db24-6c463ce58f2b"
   },
   "outputs": [
    {
     "name": "stdout",
     "output_type": "stream",
     "text": [
      "5 10.3 True hola mundo\n"
     ]
    }
   ],
   "source": [
    "#int -> numeros enteros\n",
    "#float -> numeros decimales\n",
    "#bool -> True o False\n",
    "#str -> cadenas de caracteres \"palabras\"\n",
    "varEntera = 5\n",
    "varFlotante = 10.3\n",
    "varBoolean = True\n",
    "varStr = \"hola mundo\"\n",
    "\n",
    "print(varEntera, varFlotante, varBoolean, varStr)"
   ]
  },
  {
   "cell_type": "markdown",
   "metadata": {
    "id": "XbEqV95HgrUE"
   },
   "source": [
    "Composicion de strings usando *format*"
   ]
  },
  {
   "cell_type": "code",
   "execution_count": null,
   "metadata": {
    "id": "uFw_P4Nqgr2Z"
   },
   "outputs": [],
   "source": []
  },
  {
   "cell_type": "markdown",
   "metadata": {
    "id": "pW4GVw3YG6q9"
   },
   "source": [
    "Ingreso de datos desde teclado por consola"
   ]
  },
  {
   "cell_type": "code",
   "execution_count": 1,
   "metadata": {
    "colab": {
     "base_uri": "https://localhost:8080/",
     "height": 228
    },
    "executionInfo": {
     "elapsed": 1414,
     "status": "error",
     "timestamp": 1743199497809,
     "user": {
      "displayName": "Sergio Gonzalez",
      "userId": "11558108327108853214"
     },
     "user_tz": 180
    },
    "id": "TZqOzN3pHy7K",
    "outputId": "0fd90f85-d329-43bd-8afb-803e114abc95"
   },
   "outputs": [
    {
     "name": "stdout",
     "output_type": "stream",
     "text": [
      "<class 'int'>\n"
     ]
    }
   ],
   "source": [
    "var1 = 3\n",
    "var2 = 4\n",
    "varInput = int(input(\"Ingresa un numero: \"))\n",
    "\n",
    "print(type(varInput))"
   ]
  },
  {
   "cell_type": "markdown",
   "metadata": {
    "id": "YiSL7GMcLOO9"
   },
   "source": [
    "Uso de operadores aritméticos entre variable de diferente tipo"
   ]
  },
  {
   "cell_type": "code",
   "execution_count": 38,
   "metadata": {
    "colab": {
     "base_uri": "https://localhost:8080/",
     "height": 211
    },
    "collapsed": true,
    "executionInfo": {
     "elapsed": 59,
     "status": "error",
     "timestamp": 1743199978118,
     "user": {
      "displayName": "Sergio Gonzalez",
      "userId": "11558108327108853214"
     },
     "user_tz": 180
    },
    "id": "XTQPIJfZAH8h",
    "outputId": "1dc87cf0-028a-4fc9-c6be-a489a0c3e2f8"
   },
   "outputs": [
    {
     "ename": "TypeError",
     "evalue": "unsupported operand type(s) for /: 'str' and 'str'",
     "output_type": "error",
     "traceback": [
      "\u001b[0;31m---------------------------------------------------------------------------\u001b[0m",
      "\u001b[0;31mTypeError\u001b[0m                                 Traceback (most recent call last)",
      "\u001b[0;32m<ipython-input-38-deccc2ad3815>\u001b[0m in \u001b[0;36m<cell line: 0>\u001b[0;34m()\u001b[0m\n\u001b[1;32m     10\u001b[0m \u001b[0mvar2\u001b[0m \u001b[0;34m=\u001b[0m \u001b[0;34m\"2\"\u001b[0m\u001b[0;34m\u001b[0m\u001b[0;34m\u001b[0m\u001b[0m\n\u001b[1;32m     11\u001b[0m \u001b[0;34m\u001b[0m\u001b[0m\n\u001b[0;32m---> 12\u001b[0;31m \u001b[0mres\u001b[0m \u001b[0;34m=\u001b[0m \u001b[0mvar1\u001b[0m \u001b[0;34m/\u001b[0m \u001b[0mvar2\u001b[0m\u001b[0;34m\u001b[0m\u001b[0;34m\u001b[0m\u001b[0m\n\u001b[0m\u001b[1;32m     13\u001b[0m \u001b[0;34m\u001b[0m\u001b[0m\n\u001b[1;32m     14\u001b[0m \u001b[0mprint\u001b[0m\u001b[0;34m(\u001b[0m\u001b[0mres\u001b[0m\u001b[0;34m)\u001b[0m\u001b[0;34m\u001b[0m\u001b[0;34m\u001b[0m\u001b[0m\n",
      "\u001b[0;31mTypeError\u001b[0m: unsupported operand type(s) for /: 'str' and 'str'"
     ]
    }
   ],
   "source": [
    "#Operadores aritmeticos\n",
    "# + -> suma\n",
    "# - -> resta\n",
    "# * -> producto\n",
    "# / -> cociente decimal\n",
    "# // -> cociente entero\n",
    "# % -> resto del cociente entero\n",
    "# ** -> potencia\n",
    "var1 = 5\n",
    "var2 = 2\n",
    "\n",
    "res = var1 / var2\n",
    "\n",
    "print(res)"
   ]
  },
  {
   "cell_type": "markdown",
   "metadata": {
    "id": "upZbdL3qHiQb"
   },
   "source": [
    "Uso de operadores lógicos"
   ]
  },
  {
   "cell_type": "code",
   "execution_count": 49,
   "metadata": {
    "colab": {
     "base_uri": "https://localhost:8080/"
    },
    "executionInfo": {
     "elapsed": 6,
     "status": "ok",
     "timestamp": 1743200323055,
     "user": {
      "displayName": "Sergio Gonzalez",
      "userId": "11558108327108853214"
     },
     "user_tz": 180
    },
    "id": "tnTfh_yaKiXh",
    "outputId": "ffec3343-79a3-49cf-bc7c-02d4c51946bc"
   },
   "outputs": [
    {
     "name": "stdout",
     "output_type": "stream",
     "text": [
      "True\n"
     ]
    }
   ],
   "source": [
    "#Operadores logicos\n",
    "# and -> interseccion (Y)\n",
    "# or -> union (O)\n",
    "# not -> negacion (NO)\n",
    "\n",
    "var1 = True\n",
    "var2 = False\n",
    "\n",
    "res = var1 or var2\n",
    "\n",
    "print(res)"
   ]
  },
  {
   "cell_type": "markdown",
   "metadata": {
    "id": "i9ev9xjMHle8"
   },
   "source": [
    "Uso de operadores de comparación"
   ]
  },
  {
   "cell_type": "code",
   "execution_count": 43,
   "metadata": {
    "colab": {
     "base_uri": "https://localhost:8080/"
    },
    "executionInfo": {
     "elapsed": 8,
     "status": "ok",
     "timestamp": 1743200149332,
     "user": {
      "displayName": "Sergio Gonzalez",
      "userId": "11558108327108853214"
     },
     "user_tz": 180
    },
    "id": "mIJ_efY7LZkD",
    "outputId": "50f828c7-7792-4885-c881-d21130618ea0"
   },
   "outputs": [
    {
     "name": "stdout",
     "output_type": "stream",
     "text": [
      "True\n"
     ]
    }
   ],
   "source": [
    "#Operadores de comparacion\n",
    "# == -> igual\n",
    "# != -> distinto\n",
    "# > -> mayor\n",
    "# < -> menor\n",
    "# >= -> mayor o igual\n",
    "# <= -> menor o igual\n",
    "\n",
    "var1 = 2\n",
    "var2 = 20\n",
    "\n",
    "res = var1 > 20\n",
    "\n",
    "print(res)\n",
    "#Comparacion de orden alfabetico entre strings solo funciona bien entre todo mayusculoa o todo minuscula, no mezclado"
   ]
  },
  {
   "cell_type": "markdown",
   "metadata": {
    "id": "nu3P9oZ7Hp9z"
   },
   "source": [
    "*Casteo* de variables usando constructores de los tipos de datos"
   ]
  },
  {
   "cell_type": "code",
   "execution_count": null,
   "metadata": {
    "id": "AzTngm3cMnKP"
   },
   "outputs": [],
   "source": [
    "#int() -> constructor de enteros\n",
    "#float() -> constructor de floats\n",
    "#str() -> constructor de strings\n",
    "#bool() -> constructor de bools"
   ]
  },
  {
   "cell_type": "markdown",
   "metadata": {
    "id": "5K7YBUQknCYs"
   },
   "source": [
    "*Casteo* integrado con *input*"
   ]
  },
  {
   "cell_type": "code",
   "execution_count": null,
   "metadata": {
    "id": "FYu4xzE2NyiI"
   },
   "outputs": [],
   "source": []
  },
  {
   "cell_type": "markdown",
   "metadata": {
    "id": "mDDydsSOHw_T"
   },
   "source": [
    "Expresiones"
   ]
  },
  {
   "cell_type": "code",
   "execution_count": 55,
   "metadata": {
    "colab": {
     "base_uri": "https://localhost:8080/"
    },
    "executionInfo": {
     "elapsed": 7,
     "status": "ok",
     "timestamp": 1743200682938,
     "user": {
      "displayName": "Sergio Gonzalez",
      "userId": "11558108327108853214"
     },
     "user_tz": 180
    },
    "id": "yizJ9S_DOt9j",
    "outputId": "ab3d14a2-9f27-41f8-e23a-4b9a288d2b0e"
   },
   "outputs": [
    {
     "name": "stdout",
     "output_type": "stream",
     "text": [
      "True\n"
     ]
    }
   ],
   "source": [
    "#Expresiones\n",
    "#Usamos una mezcla de operadpres logicos y de comparacion\n",
    "\n",
    "#---------------|--------------------------|----------------------------\n",
    "#               10                        25\n",
    "\n",
    "#Escribir un programa que pida un numero por teclado e imprima si su siguiente se encuentra en el intervalo 10-25 (abierto)\n",
    "\n",
    "var1 = 20\n",
    "var2 = 20\n",
    "\n",
    "res = (var1+var2 > 20) and (var1-var2 == 0)\n",
    "\n",
    "print(res)"
   ]
  },
  {
   "cell_type": "markdown",
   "metadata": {
    "id": "SWxNqIroNiiS"
   },
   "source": [
    "Ahora si, luego de las aclaraciones del caso y sabiendo como escribir y ejecutar código en los bloques de este archivo, empezamos con la guía."
   ]
  },
  {
   "cell_type": "markdown",
   "metadata": {
    "id": "JspwDwHavN5s"
   },
   "source": [
    "#**Primera parte: Declaración de variables y operaciones básicas**"
   ]
  },
  {
   "cell_type": "markdown",
   "metadata": {
    "id": "nbWbQ1jTO3AP"
   },
   "source": [
    "### **Ejercicio 1**\n",
    "\n",
    "Primer programa en Python. Escribir un programa que imprima por pantalla \"Hola mundo\"."
   ]
  },
  {
   "cell_type": "code",
   "execution_count": 2,
   "metadata": {
    "id": "joL3PhcCL-6Z"
   },
   "outputs": [
    {
     "name": "stdout",
     "output_type": "stream",
     "text": [
      "Hola mundo\n"
     ]
    }
   ],
   "source": [
    "print(\"Hola mundo\")"
   ]
  },
  {
   "cell_type": "markdown",
   "metadata": {
    "id": "dNJ7NrxMMTXf"
   },
   "source": [
    "### **Ejercicio 2**\n",
    "\n",
    "Escribir un programa que cargue en una variable la cadena de caracteres “Hola mundo” y luego la imprima por pantalla."
   ]
  },
  {
   "cell_type": "code",
   "execution_count": 3,
   "metadata": {
    "id": "Y4N45RZKMb3J"
   },
   "outputs": [
    {
     "name": "stdout",
     "output_type": "stream",
     "text": [
      "Hola mundo.\n"
     ]
    }
   ],
   "source": [
    "varHola = \"Hola mundo.\"\n",
    "print(varHola)"
   ]
  },
  {
   "cell_type": "markdown",
   "metadata": {
    "id": "G3Dwrq7lNVdx"
   },
   "source": [
    "### **Ejercicio 3**\n",
    "\n",
    "Escribir un programa que cree dos variables enteras, le asigne números arbitrarios (cualquiera) y muestre por pantalla: la suma, la resta, la multiplicación, la división entera y el resto de la división entera."
   ]
  },
  {
   "cell_type": "code",
   "execution_count": 7,
   "metadata": {
    "id": "tXIUdY6VN48C"
   },
   "outputs": [
    {
     "name": "stdout",
     "output_type": "stream",
     "text": [
      "Suma: 8 Resta: -2 Multiplicacion: 15 Division 0.6 Resto: 3\n"
     ]
    }
   ],
   "source": [
    "var1 = 3\n",
    "var2 = 5\n",
    "print(\"Suma:\", var1 + var2, \"Resta:\", var1 - var2,\"Multiplicacion:\", var1 * var2, \"Division\", var1 / var2,\"Resto:\", var1 % var2 )"
   ]
  },
  {
   "cell_type": "markdown",
   "metadata": {
    "id": "55LHODvxOHbW"
   },
   "source": [
    "### **Ejercicio 4**\n",
    "\n",
    "Implementar algoritmos que permitan:\n",
    "\n",
    "\n",
    "*   Calcular el perímetro y el área de un rectángulo, dada su base y su altura\n",
    "*   Calcular el perímetro y el área de un círculo dado su radio.\n",
    "\n",
    "Declarar las variables necesarias y asignarle números arbitrarios"
   ]
  },
  {
   "cell_type": "code",
   "execution_count": 9,
   "metadata": {
    "id": "SvRdQvtQOGgo"
   },
   "outputs": [
    {
     "name": "stdout",
     "output_type": "stream",
     "text": [
      "perimetro rectangulo:  30 Area rectangulo:  50 Perimetro circulo:  43.96 Area circulo:  153.86\n"
     ]
    }
   ],
   "source": [
    "#P(R) = 2*b + 2*h\n",
    "#A(R) = b*h\n",
    "#P(C) = 2*3.14*r\n",
    "#A(C) = 3.14*r*r\n",
    "#Operador potencia: 5**2\n",
    "\n",
    "baseRectangulo = 10\n",
    "alturaRectangulo = 5\n",
    "radioCirculo = 7\n",
    "\n",
    "print(\"perimetro rectangulo: \", 2*baseRectangulo + 2*alturaRectangulo,\n",
    "      \"Area rectangulo: \", baseRectangulo * alturaRectangulo,\n",
    "      \"Perimetro circulo: \", 2*3.14*radioCirculo,\n",
    "       \"Area circulo: \", 3.14 * radioCirculo * radioCirculo)\n"
   ]
  },
  {
   "cell_type": "markdown",
   "metadata": {
    "id": "j34Vr_TaN5v7"
   },
   "source": [
    "### **Ejercicio 5**\n",
    "\n",
    "Escribir un programa que pida una temperatura en grados Celsius al usuario, realice la transformación de grados Celsius a Fahrenheit e imprima el resultado por pantalla."
   ]
  },
  {
   "cell_type": "code",
   "execution_count": 10,
   "metadata": {
    "id": "2NMYcPsFPVoY"
   },
   "outputs": [
    {
     "name": "stdout",
     "output_type": "stream",
     "text": [
      "Temperatura ingresa en grados Fahrenheit: 55.400000000000006\n"
     ]
    }
   ],
   "source": [
    "#T(C) = 1.8*C + 32\n",
    "tempCelsius = int(input(\"Ingrese una temperatura en Celsius:\"))\n",
    "print(\"Temperatura ingresa en grados Fahrenheit:\", 1.8*tempCelsius + 32)"
   ]
  },
  {
   "cell_type": "markdown",
   "metadata": {
    "id": "V4TXH8iygA5S"
   },
   "source": [
    "### **Ejercicio 6**\n",
    "\n",
    "Escribir un programa que pregunte por el número de horas trabajadas y el costo por hora. Después debe mostrar por pantalla el sueldo que corresponde."
   ]
  },
  {
   "cell_type": "code",
   "execution_count": null,
   "metadata": {
    "id": "q5h196hQgBUy"
   },
   "outputs": [],
   "source": []
  },
  {
   "cell_type": "markdown",
   "metadata": {
    "id": "hiC2Y35TgWN1"
   },
   "source": [
    "### **Ejercicio 7**\n",
    "\n",
    "Escribir un programa que pida un peso (en kg) y una estatura (en metros), calcule el índice de masa corporal y lo almacene en una variable. Luego debe muestrar por pantalla la frase: \"El índice de masa corporal es: \\<imc>\". Donde \\<imc> es el índice de masa corporal calculado."
   ]
  },
  {
   "cell_type": "code",
   "execution_count": null,
   "metadata": {
    "id": "q2Krl_PWgV3v"
   },
   "outputs": [],
   "source": [
    "#IMC(P,H) = P / (H*H)"
   ]
  },
  {
   "cell_type": "markdown",
   "metadata": {
    "id": "qeZrEYeuhP0Z"
   },
   "source": [
    "### **Ejercicio 8**\n",
    "\n",
    "Escribir un programa que pregunte una cantidad a invertir, el interés anual y el número de años, y muestre por pantalla el capital obtenido en la inversión."
   ]
  },
  {
   "cell_type": "code",
   "execution_count": null,
   "metadata": {
    "id": "xB0aHFqRhQRb"
   },
   "outputs": [],
   "source": [
    "#(1+IA/100)* C *Años"
   ]
  },
  {
   "cell_type": "markdown",
   "metadata": {
    "id": "_K12p-SIor7W"
   },
   "source": [
    "### **Ejercicio 9**\n",
    "\n",
    "Escribir un programa que pregunte un nombre completo en la consola y después muestre por pantalla ese nombre tres veces, una con todas las letras minúsculas, otra con todas las letras mayúsculas y otra solo con la primera letra del nombre y de los apellidos en mayúscula. Se puede introducir un nombre combinando mayúsculas y minúsculas como se quiera."
   ]
  },
  {
   "cell_type": "code",
   "execution_count": null,
   "metadata": {
    "id": "Ey98WZ5ZosRl"
   },
   "outputs": [],
   "source": [
    "#upper\n",
    "#lower\n",
    "#capitalize\n",
    "#title\n"
   ]
  },
  {
   "cell_type": "markdown",
   "metadata": {
    "id": "68VGBXIJmixr"
   },
   "source": [
    "### **Ejercicio 10**\n",
    "\n",
    "Escribir un programa que pregunte un nombre en la consola y después muestre por pantalla: \"El \\<NOMBRE> tiene \\<N> letras\", donde \\<NOMBRE> es el nombre ingresado todo en mayúsculas y \\<N> es el número de letras que tienen el nombre."
   ]
  },
  {
   "cell_type": "code",
   "execution_count": null,
   "metadata": {
    "id": "6kSdf8xkmjI3"
   },
   "outputs": [],
   "source": []
  },
  {
   "cell_type": "markdown",
   "metadata": {
    "id": "tg91sLnqsz3G"
   },
   "source": [
    "### **Ejercicio 11**\n",
    "\n",
    "Escribir un programa que pida una palabra, reemplace todas las letras \"a\" por \"z\" y muestre el resultado por pantalla."
   ]
  },
  {
   "cell_type": "code",
   "execution_count": null,
   "metadata": {
    "id": "hPpWslcQs0Oa"
   },
   "outputs": [],
   "source": [
    "#Operadores (funciones o metodos) sobre strings\n",
    "#lower -> pasar a minuscula\n",
    "#upper -> pasar a mayuscula\n",
    "#title -> para a mayuscula la primer letra  de todas las palabra\n",
    "#capitalize -> para a mayuscula la primer letra de la primer palabras\n",
    "#startswith -> Para testear el comienzo de un string\n",
    "#replace -> reemplaza caracteres por otros\n",
    "#len(string) -> cantidad de caracteres\n",
    "\n",
    "#se usan asi: variable.funcion(), salvo len que se usa: len(variable)"
   ]
  },
  {
   "cell_type": "markdown",
   "metadata": {
    "id": "1qwz086stewZ"
   },
   "source": [
    "### **Ejercicio 12**\n",
    "\n",
    "Escribir un programa que pida dos palabras y muestre por pantalla la concatenacion de ambas.  "
   ]
  },
  {
   "cell_type": "code",
   "execution_count": null,
   "metadata": {
    "id": "blEaekW5Pfo7"
   },
   "outputs": [],
   "source": []
  },
  {
   "cell_type": "markdown",
   "metadata": {
    "id": "yuLrj7QTtnIl"
   },
   "source": [
    "### **Ejercicio 13**\n",
    "\n",
    "Escribir un programa que pida una palabra y un número N y muestre por pantalla la palabra ingresada repetida N veces."
   ]
  },
  {
   "cell_type": "code",
   "execution_count": null,
   "metadata": {
    "id": "faif7mZYteUh"
   },
   "outputs": [],
   "source": []
  },
  {
   "cell_type": "markdown",
   "metadata": {
    "id": "L9d6sOSpuxCT"
   },
   "source": [
    "#**Segunda parte: Estructuras de control**"
   ]
  },
  {
   "cell_type": "code",
   "execution_count": null,
   "metadata": {
    "id": "_hdb9uKIOfdF"
   },
   "outputs": [],
   "source": [
    "#---------------|--------------------------|----------------------------\n",
    "#               limInf                    limSup"
   ]
  },
  {
   "cell_type": "markdown",
   "metadata": {
    "id": "xp3VZsqMv7d3"
   },
   "source": [
    "### **Ejercicio 14**\n",
    "\n",
    "Escribir un programa que pregunte una edad y muestre por pantalla si es mayor de edad o no."
   ]
  },
  {
   "cell_type": "code",
   "execution_count": null,
   "metadata": {
    "id": "F3lyWaa-v7yv"
   },
   "outputs": [],
   "source": []
  },
  {
   "cell_type": "markdown",
   "metadata": {
    "id": "QNlHtEHdwKBp"
   },
   "source": [
    "### **Ejercicio 15**\n",
    "\n",
    "Escribir un programa que almacene la cadena de caracteres \"contraseña\" en una variable y luego pregunte por la contraseña e imprima por pantalla si la contraseña introducida en la consola coincide con la guardada en la variable sin tener en cuenta mayúsculas y minúsculas."
   ]
  },
  {
   "cell_type": "code",
   "execution_count": null,
   "metadata": {
    "id": "6-AbFKCjwKeq"
   },
   "outputs": [],
   "source": []
  },
  {
   "cell_type": "markdown",
   "metadata": {
    "id": "ZJ0_6OxYPWZJ"
   },
   "source": [
    "### **Ejercicio 15 bis**\n",
    "\n",
    "Escribir un programa pida dos números enteros e informe por pantalla cual es menor de los dos, si son iguales, indicarlo por separado.\n"
   ]
  },
  {
   "cell_type": "code",
   "execution_count": null,
   "metadata": {
    "id": "SII_f1Zftfj5"
   },
   "outputs": [],
   "source": []
  },
  {
   "cell_type": "markdown",
   "metadata": {
    "id": "AnZ1kpoQPn3Y"
   },
   "source": [
    "### **Ejercicio 16**\n",
    "\n",
    "Escribir un programa que pida un número entero e indique si dicho número es par o impar."
   ]
  },
  {
   "cell_type": "code",
   "execution_count": null,
   "metadata": {
    "id": "8TFzQHzKPt-v"
   },
   "outputs": [],
   "source": []
  },
  {
   "cell_type": "markdown",
   "metadata": {
    "id": "Z1-LrF6Swkx_"
   },
   "source": [
    "###**Ejercicio 17**\n",
    "\n",
    "Para pagar un determinado impuesto se debe ser mayor de 18 años y tener unos ingresos iguales o superiores a $100000 mensuales. Escribir un programa que pregunte la edad y los ingresos mensuales y muestre por pantalla si se debe pagar o no."
   ]
  },
  {
   "cell_type": "code",
   "execution_count": null,
   "metadata": {
    "id": "FBMDycRlwlIY"
   },
   "outputs": [],
   "source": []
  },
  {
   "cell_type": "markdown",
   "metadata": {
    "id": "HIjqXTzoPuYU"
   },
   "source": [
    "### **Ejercicio 18**\n",
    "\n",
    "Escribir un programa que pida un número entero del 1 al 7 y muestre por pantalla el día de la semana correspondiente. Controlar que el número se encuentre en el rango correcto, si no es así, informar un error. Por ejemplo, si el número es 2 el día es martes."
   ]
  },
  {
   "cell_type": "code",
   "execution_count": null,
   "metadata": {
    "id": "6SztTz4yPz2k"
   },
   "outputs": [],
   "source": []
  },
  {
   "cell_type": "markdown",
   "metadata": {
    "id": "KY6T0NWfP0Pq"
   },
   "source": [
    "### **Ejercicio 19**\n",
    "\n",
    "Las y los alumnas y alumnos de un curso se han dividido en dos grupos A y B de acuerdo al género y el nombre. El grupo A esta formado por las personas de genero femenino con una inicial de nombre anterior a la M y las personas de genero masculino con un inicial de nombre posterior a la N y el grupo B por el resto. Escribir un programa que pregunte la inicial y el género, y muestre por pantalla el grupo que corresponde."
   ]
  },
  {
   "cell_type": "code",
   "execution_count": null,
   "metadata": {
    "id": "tXqowWynQzPJ"
   },
   "outputs": [],
   "source": []
  },
  {
   "cell_type": "markdown",
   "metadata": {
    "id": "YgtCaggoQzwr"
   },
   "source": [
    "### **Ejercicio 20**\n",
    "\n",
    "Escribir un programa para una empresa que tiene salas de juegos para todas las edades y quiere calcular de forma automática el precio que debe cobrar a sus clientes por entrar. El programa debe preguntar la edad del cliente y mostrar el precio de la entrada. Si el cliente es menor de 4 años puede entrar gratis, si tiene entre 4 y 18 años debe pagar \\$5 y si es mayor de 18 años, \\$10."
   ]
  },
  {
   "cell_type": "code",
   "execution_count": null,
   "metadata": {
    "id": "C2k49JqwREeG"
   },
   "outputs": [],
   "source": []
  },
  {
   "cell_type": "markdown",
   "metadata": {
    "id": "6h-hloqtswqX"
   },
   "source": [
    "### **Estructuras de control repetitivas**"
   ]
  },
  {
   "cell_type": "code",
   "execution_count": null,
   "metadata": {
    "id": "5X2t8fJCa_uh"
   },
   "outputs": [],
   "source": [
    "#print(1)\n",
    "#print(2)\n",
    "#....\n",
    "#....\n",
    "#print(10)"
   ]
  },
  {
   "cell_type": "code",
   "execution_count": null,
   "metadata": {
    "id": "D7R1eqLtyTb1"
   },
   "outputs": [],
   "source": [
    "#range(N)=range(0,N,1) -> 0,1,2,3,4,....,N-1\n",
    "#range(1, 10, 2) -> 1,3,7,9\n",
    "#range(10,15) -> 10,11,12,13,14"
   ]
  },
  {
   "cell_type": "code",
   "execution_count": null,
   "metadata": {
    "id": "xbL3yXdsHouz"
   },
   "outputs": [],
   "source": [
    "#Sirve para repetir un bloque de codigo (iterar) mientras sea verdadera una condicion evalualda"
   ]
  },
  {
   "cell_type": "markdown",
   "metadata": {
    "id": "i_R4RvnqRE0e"
   },
   "source": [
    "### **Ejercicio 21**\n",
    "\n",
    "Mostrar por pantalla todos los números enteros entre 1 y 100, hacerlo usando un bucle while y tambien con un bucle for."
   ]
  },
  {
   "cell_type": "code",
   "execution_count": null,
   "metadata": {
    "id": "8xtW7IzBaE8x"
   },
   "outputs": [],
   "source": []
  },
  {
   "cell_type": "markdown",
   "metadata": {
    "id": "dsdrdUzNRVlx"
   },
   "source": [
    "### **Ejercicio 22**\n",
    "\n",
    "Escribir un programa que pida dos números enteros e imprima todos los números enteros entre ellos."
   ]
  },
  {
   "cell_type": "code",
   "execution_count": null,
   "metadata": {
    "id": "eiPpA7TmRjG_"
   },
   "outputs": [],
   "source": []
  },
  {
   "cell_type": "markdown",
   "metadata": {
    "id": "yuxsSussRjfn"
   },
   "source": [
    "### **Ejercicio 23**\n",
    "\n",
    "Escribir un programa que pregunte un nombre en la consola y un número entero e imprima por pantalla en líneas distintas el nombre tantas veces como el número introducido."
   ]
  },
  {
   "cell_type": "code",
   "execution_count": null,
   "metadata": {
    "id": "DGb1-6f_RsWP"
   },
   "outputs": [],
   "source": []
  },
  {
   "cell_type": "markdown",
   "metadata": {
    "id": "dnlPkC9XyCLe"
   },
   "source": [
    "###**Ejercicio 24**\n",
    "\n",
    "Escribir un programa que pida un número entero positivo y muestre por pantalla todos los números impares desde 1 hasta ese número."
   ]
  },
  {
   "cell_type": "code",
   "execution_count": null,
   "metadata": {
    "id": "fcDtiO_LyCiJ"
   },
   "outputs": [],
   "source": []
  },
  {
   "cell_type": "markdown",
   "metadata": {
    "id": "tsVLTkW8Rs-O"
   },
   "source": [
    "### **Ejercicio 25**\n",
    "\n",
    "Escribir un programa que pida un número entero y muestre por pantalla un triángulo rectángulo como el de más abajo, de altura igual al número introducido.\n",
    "\n",
    "Por ejemplo, si el usuario ingresa el numero 4:\n",
    "\n",
    "\\*\n",
    "\n",
    "\\* *\n",
    "\n",
    "\\* * *\n",
    "\n",
    "\\* * * *"
   ]
  },
  {
   "cell_type": "code",
   "execution_count": null,
   "metadata": {
    "id": "7ANmm0ROR9Tg"
   },
   "outputs": [],
   "source": []
  },
  {
   "cell_type": "markdown",
   "metadata": {
    "id": "ZZJCDA32R91Y"
   },
   "source": [
    "### **Ejercicio 26**\n",
    "\n",
    "Escribir un programa que imprima por pantalla todas las fichas del domino, una por línea, sin repetir.\n",
    "\n",
    "0 | 0 - 0 | 1 - 0 | 2 - 0 | 3 - 0 | 4 - 0 | 5 - 0 | 6\n",
    "\n",
    "1 | 1 - 1 | 2 - 1 | 3 - 1 | 4 - 1 | 5 - 1 | 6\n",
    "\n",
    "2 | 2 - 2 | 3 - 2 | 4 - 2 | 5 - 2 | 6\n",
    "\n",
    "3 | 3 - 3 | 4 - 3 | 5 - 3 | 6\n",
    "\n",
    "4 | 4 - 4 | 5 - 4 | 6\n",
    "\n",
    "5 | 5 - 5 | 6\n",
    "\n",
    "6 | 6"
   ]
  },
  {
   "cell_type": "code",
   "execution_count": null,
   "metadata": {
    "id": "LTzYmPPWSFvO"
   },
   "outputs": [],
   "source": []
  },
  {
   "cell_type": "markdown",
   "metadata": {
    "id": "Hh19diZlyXek"
   },
   "source": [
    "###**Ejercicio 27**\n",
    "\n",
    "Escribir un programa que pida un número entero y muestre por pantalla un triángulo rectángulo como el de más abajo.\n",
    "\n",
    "Si el usuario ingresa el numero 5:\n",
    "\n",
    "1             \n",
    "\n",
    "3 1           \n",
    "\n",
    "5 3 1         \n",
    "\n",
    "7 5 3 1       \n",
    "\n",
    "9 7 5 3 1  "
   ]
  },
  {
   "cell_type": "code",
   "execution_count": null,
   "metadata": {
    "id": "f74HFoKKyX0F"
   },
   "outputs": [],
   "source": []
  },
  {
   "cell_type": "markdown",
   "metadata": {
    "id": "59Jbl5dbSGF2"
   },
   "source": [
    "\n",
    "### **Ejercicio 28**\n",
    "\n",
    "Escribir un programa que pida un número natural **N** e imprima por pantalla la suma de los números naturales de 1 hasta **N**.\n",
    "\n",
    "Por ejemplo para **N = 5**, la salida debe ser:\n",
    "\n",
    "1 + 2 + 3 + 4 + 5 = 15\n",
    "\n",
    "Solo debe imprimir el resultado final (por ejemplo 15)"
   ]
  },
  {
   "cell_type": "code",
   "execution_count": null,
   "metadata": {
    "id": "jIt2AeopSiVL"
   },
   "outputs": [],
   "source": []
  },
  {
   "cell_type": "markdown",
   "metadata": {
    "id": "8uQf2g92Sivq"
   },
   "source": [
    "### **Ejercicio 29**\n",
    "\n",
    "Construir un programa que lea un número natural **N** y calcule la suma de los primeros **N** números pares.\n",
    "-  Si N = 2 -> Resultado = 2 + 4\n",
    "-  Si N = 3 -> Resultado = 2 + 4 + 6\n",
    "-  Si N = 4 -> Resultado = 2 + 4 + 6 + 8\n",
    "-  ......\n",
    "-  Para cualquier N -> Resultado = 2 + 4 + 6 +....+ 2*N"
   ]
  },
  {
   "cell_type": "code",
   "execution_count": null,
   "metadata": {
    "id": "9ADJ8tgxSn2Q"
   },
   "outputs": [],
   "source": []
  },
  {
   "cell_type": "markdown",
   "metadata": {
    "id": "ZEi--gNXSoOZ"
   },
   "source": [
    "### **Ejercicio 30**\n",
    "\n",
    "Escribir un programa que pida dos números enteros e informa por pantalla todos los números pares entre ellos."
   ]
  },
  {
   "cell_type": "code",
   "execution_count": null,
   "metadata": {
    "id": "4_bYnYGESvV0"
   },
   "outputs": [],
   "source": []
  },
  {
   "cell_type": "markdown",
   "metadata": {
    "id": "tJwW9zpHSvwA"
   },
   "source": [
    "### **Ejercicio 31**\n",
    "\n",
    "Escribir un programa que pida un número entero y muestre por pantalla la cantidad de cifras de dicho número. Se debe resolver con divisiones sucesivas por 10 usando un bucle while."
   ]
  },
  {
   "cell_type": "code",
   "execution_count": null,
   "metadata": {
    "id": "RjduT381S13q"
   },
   "outputs": [],
   "source": []
  },
  {
   "cell_type": "markdown",
   "metadata": {
    "id": "zo91uPVAS2Tk"
   },
   "source": [
    "### **Ejercicio 32**\n",
    "\n",
    "Escribir un programa que pida un número entero e informe si dicho numero es primo o compuesto."
   ]
  },
  {
   "cell_type": "code",
   "execution_count": null,
   "metadata": {
    "id": "eGi5uFGVxOef"
   },
   "outputs": [],
   "source": []
  }
 ],
 "metadata": {
  "colab": {
   "provenance": []
  },
  "kernelspec": {
   "display_name": "Python 3",
   "name": "python3"
  },
  "language_info": {
   "codemirror_mode": {
    "name": "ipython",
    "version": 3
   },
   "file_extension": ".py",
   "mimetype": "text/x-python",
   "name": "python",
   "nbconvert_exporter": "python",
   "pygments_lexer": "ipython3",
   "version": "3.11.9"
  }
 },
 "nbformat": 4,
 "nbformat_minor": 0
}
